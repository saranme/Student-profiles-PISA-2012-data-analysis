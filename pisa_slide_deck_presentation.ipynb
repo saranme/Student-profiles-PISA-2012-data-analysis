{
 "cells": [
  {
   "cell_type": "markdown",
   "metadata": {},
   "source": [
    "### Investigation Overview\n",
    "Know the student profiles that took the PISA 2012 test."
   ]
  },
  {
   "cell_type": "markdown",
   "metadata": {},
   "source": [
    "### Dataset Overview\n",
    "PISA 2012 data has the tests of 485,490 student representatives from 64 countries. 635 variables are evaluated.\n",
    "<br>\n",
    "The main variables chosen are the type of population: native or emigrant, scores and truancy, among others."
   ]
  },
  {
   "cell_type": "markdown",
   "metadata": {},
   "source": [
    "### Main features of interest\n",
    "- Which continents and countries have the best and worst educational level?\n",
    "- Immigrant students have a worse educational and social level than native students?\n",
    "- Is absenteeism related to a worse educational and social level?\n",
    "- Is wealth related to a better educational level?"
   ]
  },
  {
   "cell_type": "markdown",
   "metadata": {},
   "source": [
    "### Distribution of Scores\n",
    "The distribution of the marks take on a range of values between 0 and 900 in all the subjects, the unimodal distribution being very similar between them, as well as the average marks (between 469 and 476 points)."
   ]
  },
  {
   "cell_type": "markdown",
   "metadata": {},
   "source": [
    "![title](pisa_img/5.png)"
   ]
  },
  {
   "cell_type": "markdown",
   "metadata": {},
   "source": [
    "As expected, the correlation between the subjects is linear, strong and positive: the higher a student's math score, the better the student's science or reading score."
   ]
  },
  {
   "cell_type": "markdown",
   "metadata": {},
   "source": [
    "![title](pisa_img/4.png)"
   ]
  },
  {
   "cell_type": "markdown",
   "metadata": {},
   "source": [
    "### Scores vs. Type of Population\n",
    "Broken down by population (natives, first generation of immigrants and second generation of immigrants) differences in scores are observed.\n",
    "\n",
    "First Generation of immigrants is the type with the lowest scores in all the subjects while Natives are the type with the highest scores in Reading and Science."
   ]
  },
  {
   "cell_type": "markdown",
   "metadata": {},
   "source": [
    "![title](pisa_img/6.png)"
   ]
  },
  {
   "cell_type": "markdown",
   "metadata": {},
   "source": [
    "### Immigrants vs. correlated Variables\n",
    "Given that there is a difference between the type of population in scores, we will observe in greater depth which variables are significantly correlated with immigrant students (first and second generation).\n",
    "\n",
    "The correlated variables are:\n",
    "- Immigrants observe 20% more differences between Host and Heritage Cultures (variable CULTDIST).\n",
    "- Immigrants feel that they adapt 17% worse to the new culture (HOSTCULT).\n",
    "- Immigrants arrive in the country 0.25 years later than natives who return to their country (variable ST21Q01).\n",
    "- Immigrants have around 14% more national houshold possession items than natives (ST26Q15, ST26Q16, ST26Q17 variables).\n",
    "- Immigrants are 20% more reluctant to use preferably the heritage language in language reception and production (variable LANGRPPD).\n",
    "\n",
    "The feeling of equality, between immigrants and natives, is felt less by immigrants than by natives."
   ]
  },
  {
   "cell_type": "markdown",
   "metadata": {},
   "source": [
    "![title](pisa_img/9.png)"
   ]
  },
  {
   "cell_type": "markdown",
   "metadata": {},
   "source": [
    "### Scores vs. Countries, Type of Population and Wealth\n",
    "We select the countries with the highest and worst scores.\n",
    "<br>\n",
    "There is a difference of more than 100 points between the highest and lowest scores countries.\n",
    "<br>\n",
    "Usually, natives get a higher total score in countries. However, Singapore and Qatar have immigrants with higher scores.\n",
    "<br>\n",
    "All top scored countries are Asian but 3 of the worst scored countries are also asians. So, this continent has the highest and lowest score cuontries."
   ]
  },
  {
   "cell_type": "markdown",
   "metadata": {},
   "source": [
    "![title](pisa_img/7.png)"
   ]
  },
  {
   "cell_type": "markdown",
   "metadata": {},
   "source": [
    "Are top score countries wealthier than worst scored countries?\n",
    "\n",
    "Countries with fewer scores have less wealth, except Qatar. Yes there is a positive correlation in most cases."
   ]
  },
  {
   "cell_type": "markdown",
   "metadata": {},
   "source": [
    "![title](pisa_img/8.png)"
   ]
  },
  {
   "cell_type": "markdown",
   "metadata": {},
   "source": [
    "### Wealth vs. Score and Type of Population\n",
    "We analyze whether the level of wealth affects population types and their corresponding differences in scores.\n",
    "\n",
    "The natives have a higher poverty rate than the immigrants, placing their interval at almost two points less than wealth.\n",
    "\n",
    "The highest Native and Immigrant scores occur in the same wealth range.\n",
    "\n",
    "Immigrant and Native American scores seem uncorrelated with wealth. Most of the scores are in a wealth interval of [-2.2]."
   ]
  },
  {
   "cell_type": "markdown",
   "metadata": {},
   "source": [
    "![title](pisa_img/10.png)"
   ]
  },
  {
   "cell_type": "markdown",
   "metadata": {},
   "source": [
    "We add **Truancy** to this list of variables to see if it affects absent more or less with the other variables.\n",
    "Truancy is divided into:\n",
    "- None: no truancy\n",
    "- One or two times: one or two truancy days\n",
    "- Three or four times: three or four truancy days\n",
    "- Five or more times: five or more truancy days\n",
    "\n",
    "Breaking down by truancy, it can be seen that the greater the truancy, there is a small correlation with less wealth and a clear relationship with a lower score among immigrants.\n",
    "\n",
    "Immigrants who are not absent or only absent once or twice have a more similar distribution of wealth, regardless of the score obtained."
   ]
  },
  {
   "cell_type": "markdown",
   "metadata": {},
   "source": [
    "![title](pisa_img/12.png)"
   ]
  },
  {
   "cell_type": "markdown",
   "metadata": {},
   "source": [
    "### Scores vs. Truancy\n",
    "The score is correlated with absenteeism: the higher the absenteeism, the worse the score."
   ]
  },
  {
   "cell_type": "markdown",
   "metadata": {},
   "source": [
    "![title](pisa_img/11.png)"
   ]
  },
  {
   "cell_type": "markdown",
   "metadata": {},
   "source": [
    "### Difference in scores between Type of Population vs. Truancy\n",
    "To analyze more clearly the difference in scores between natives and immigrants regarding truancy, we calculated the differences in scores between them for the subjects.\n",
    "All the differences are positive (Natives - Immigrants), therefore, the natives average better scores in all the subjects.\n",
    "\n",
    "The smallest difference in scores between natives and immigrants occurs among those who skip classes once or twice.\n",
    "\n",
    "If you skip classes more than once or twice, the difference in scores increases between natives and immigrants.\n",
    "\n",
    "Regarding subjects, the highest score difference is found in Science for those who do not skip any class.\n",
    "The differences in Reading are the most noticeable for those who skip more classes."
   ]
  },
  {
   "cell_type": "markdown",
   "metadata": {},
   "source": [
    "![title](pisa_img/3.png)"
   ]
  }
 ],
 "metadata": {
  "kernelspec": {
   "display_name": "Python 3",
   "language": "python",
   "name": "python3"
  },
  "language_info": {
   "codemirror_mode": {
    "name": "ipython",
    "version": 3
   },
   "file_extension": ".py",
   "mimetype": "text/x-python",
   "name": "python",
   "nbconvert_exporter": "python",
   "pygments_lexer": "ipython3",
   "version": "3.7.4"
  }
 },
 "nbformat": 4,
 "nbformat_minor": 2
}
